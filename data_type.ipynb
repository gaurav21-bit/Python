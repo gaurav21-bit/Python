{
 "cells": [
  {
   "cell_type": "code",
   "execution_count": 14,
   "id": "1d241fc5-4a45-46a0-a74e-aa00aa9d7825",
   "metadata": {},
   "outputs": [
    {
     "name": "stdout",
     "output_type": "stream",
     "text": [
      "string\n"
     ]
    }
   ],
   "source": [
    "#printing a string \n",
    "print(\"string\")"
   ]
  },
  {
   "cell_type": "code",
   "execution_count": 16,
   "id": "76ecc619-91a2-4fe8-86d1-7baa2a9906fc",
   "metadata": {},
   "outputs": [
    {
     "name": "stdout",
     "output_type": "stream",
     "text": [
      "-2\n"
     ]
    }
   ],
   "source": [
    "#printing a int\n",
    "print(-2)"
   ]
  },
  {
   "cell_type": "code",
   "execution_count": 18,
   "id": "304f7e02-fb9a-47ca-88b1-ddfea9b728e0",
   "metadata": {},
   "outputs": [
    {
     "name": "stdout",
     "output_type": "stream",
     "text": [
      "21.12\n"
     ]
    }
   ],
   "source": [
    "#printing a float\n",
    "print(21.12)\n"
   ]
  },
  {
   "cell_type": "code",
   "execution_count": 20,
   "id": "f965681a-ce8d-4b3d-b836-d910d4416362",
   "metadata": {},
   "outputs": [
    {
     "name": "stdout",
     "output_type": "stream",
     "text": [
      "(1+2j)\n"
     ]
    }
   ],
   "source": [
    "#printing a complex\n",
    "print(1+2j)"
   ]
  },
  {
   "cell_type": "code",
   "execution_count": 22,
   "id": "de6eedac-e477-46bf-a35c-800ea37df3e8",
   "metadata": {},
   "outputs": [
    {
     "name": "stdout",
     "output_type": "stream",
     "text": [
      "[12, 12, 34, 56]\n"
     ]
    }
   ],
   "source": [
    "#printing a list\n",
    "print([12,12,34,56])"
   ]
  },
  {
   "cell_type": "code",
   "execution_count": 24,
   "id": "2262aaa8-6f22-42a6-815d-f02f1e55723c",
   "metadata": {},
   "outputs": [
    {
     "name": "stdout",
     "output_type": "stream",
     "text": [
      "(12, 45, 67, 67)\n"
     ]
    }
   ],
   "source": [
    "#printing a tuple \n",
    "print((12,45,67,67))"
   ]
  },
  {
   "cell_type": "code",
   "execution_count": 26,
   "id": "5292add5-5b23-4591-88cb-5c00d6f58e9f",
   "metadata": {},
   "outputs": [
    {
     "name": "stdout",
     "output_type": "stream",
     "text": [
      "range(1, 6)\n"
     ]
    }
   ],
   "source": [
    "#printing a range \n",
    "print(range(1,6))"
   ]
  },
  {
   "cell_type": "code",
   "execution_count": 34,
   "id": "4e7f1f6c-2b9b-4de8-88be-c806b320128b",
   "metadata": {},
   "outputs": [
    {
     "name": "stdout",
     "output_type": "stream",
     "text": [
      "{'name': 'madhav', 'age': 18}\n"
     ]
    }
   ],
   "source": [
    "#printing a dictonary \n",
    "print({\"name\":\"madhav\",\"age\":18})"
   ]
  },
  {
   "cell_type": "code",
   "execution_count": 36,
   "id": "db881e9d-e477-4aa7-bb4c-9b646204a5bf",
   "metadata": {},
   "outputs": [
    {
     "name": "stdout",
     "output_type": "stream",
     "text": [
      "{56, 34, 12, 78}\n"
     ]
    }
   ],
   "source": [
    "#printing a set \n",
    "print({12,34,56,78})\n"
   ]
  },
  {
   "cell_type": "code",
   "execution_count": 46,
   "id": "82e8ff0c-9bed-4569-a650-0ad26c7ec825",
   "metadata": {},
   "outputs": [
    {
     "name": "stdout",
     "output_type": "stream",
     "text": [
      "True\n",
      "True\n",
      "False\n"
     ]
    }
   ],
   "source": [
    "#printing bollean value \n",
    "print(10*9==90)\n",
    "print(10>9)\n",
    "print(10<9)\n"
   ]
  },
  {
   "cell_type": "code",
   "execution_count": null,
   "id": "082a08a9-1a40-45e2-9846-4941ea0a1577",
   "metadata": {},
   "outputs": [],
   "source": []
  }
 ],
 "metadata": {
  "kernelspec": {
   "display_name": "Python 3 (ipykernel)",
   "language": "python",
   "name": "python3"
  },
  "language_info": {
   "codemirror_mode": {
    "name": "ipython",
    "version": 3
   },
   "file_extension": ".py",
   "mimetype": "text/x-python",
   "name": "python",
   "nbconvert_exporter": "python",
   "pygments_lexer": "ipython3",
   "version": "3.12.4"
  }
 },
 "nbformat": 4,
 "nbformat_minor": 5
}
